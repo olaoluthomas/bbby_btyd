{
 "cells": [
  {
   "cell_type": "code",
   "execution_count": 1,
   "metadata": {},
   "outputs": [
    {
     "name": "stdout",
     "output_type": "stream",
     "text": [
      "<class 'pandas.core.frame.DataFrame'>\n",
      "Index: 5000 entries, 0 to 4999\n",
      "Data columns (total 5 columns):\n",
      " #   Column             Non-Null Count  Dtype  \n",
      "---  ------             --------------  -----  \n",
      " 0   frequency_cal      5000 non-null   float64\n",
      " 1   recency_cal        5000 non-null   float64\n",
      " 2   T_cal              5000 non-null   float64\n",
      " 3   frequency_holdout  5000 non-null   float64\n",
      " 4   duration_holdout   5000 non-null   float64\n",
      "dtypes: float64(5)\n",
      "memory usage: 234.4 KB\n"
     ]
    }
   ],
   "source": [
    "from lifetimes.datasets import load_transaction_data\n",
    "from lifetimes.utils import calibration_and_holdout_data\n",
    "\n",
    "t_data = load_transaction_data()\n",
    "data = calibration_and_holdout_data(t_data, 'id', 'date',\n",
    "                                    calibration_period_end='2014-09-01',\n",
    "                                    observation_period_end='2014-12-31')\n",
    "data.info()"
   ]
  },
  {
   "cell_type": "code",
   "execution_count": 2,
   "metadata": {},
   "outputs": [
    {
     "name": "stdout",
     "output_type": "stream",
     "text": [
      "/jupyterlab\n"
     ]
    }
   ],
   "source": [
    "import os\n",
    "\n",
    "current_dir = os.getcwd()\n",
    "print(current_dir)"
   ]
  },
  {
   "cell_type": "code",
   "execution_count": 4,
   "metadata": {},
   "outputs": [],
   "source": [
    "data_dir = os.path.join(current_dir, 'ltv_btyd_demo/data')\n",
    "\n",
    "if not os.path.exists(data_dir):\n",
    "    os.makedirs(data_dir, exist_ok=True)\n",
    "data.to_csv(f\"{data_dir}/trans_data.csv\", index=True)"
   ]
  },
  {
   "cell_type": "code",
   "execution_count": null,
   "metadata": {},
   "outputs": [],
   "source": []
  }
 ],
 "metadata": {
  "kernelspec": {
   "display_name": "Python [conda env:ltv]",
   "language": "python",
   "name": "conda-env-ltv-py"
  },
  "language_info": {
   "codemirror_mode": {
    "name": "ipython",
    "version": 3
   },
   "file_extension": ".py",
   "mimetype": "text/x-python",
   "name": "python",
   "nbconvert_exporter": "python",
   "pygments_lexer": "ipython3",
   "version": "3.9.18"
  }
 },
 "nbformat": 4,
 "nbformat_minor": 2
}
